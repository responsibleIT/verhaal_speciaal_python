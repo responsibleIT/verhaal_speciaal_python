{
 "cells": [
  {
   "cell_type": "markdown",
   "metadata": {},
   "source": [
    "# Review reading level with one LLM\n",
    "\n",
    "In this notebook we will use an LLM (GPT-4o) to evaluate a text and see what the reading level is. \n",
    "\n",
    "The texts that we evaluate are the 'Verhaal Speciaal' stories. \n",
    "\n",
    "### Contents\n",
    "0. Installs and imports\n",
    "1. Load the story\n",
    "2. Set prompt and settings\n",
    "3. Evaluate the text\n",
    "4. Results\n"
   ]
  },
  {
   "cell_type": "markdown",
   "metadata": {},
   "source": [
    "## 0. Installs and imports"
   ]
  },
  {
   "cell_type": "code",
   "execution_count": 1,
   "metadata": {},
   "outputs": [
    {
     "data": {
      "text/plain": [
       "'1.54.5'"
      ]
     },
     "execution_count": 1,
     "metadata": {},
     "output_type": "execute_result"
    }
   ],
   "source": [
    "import glob\n",
    "import json\n",
    "import os\n",
    "import config\n",
    "import openai\n",
    "openai.__version__"
   ]
  },
  {
   "cell_type": "code",
   "execution_count": 2,
   "metadata": {},
   "outputs": [],
   "source": [
    "#Initialize the OpenAI client \n",
    "\n",
    "os.environ['OPENAI_API_KEY'] = config.OpenAI_key # replace with your API-key, but don't keep it in your source code :-)\n",
    "\n",
    "client = openai.Client()"
   ]
  },
  {
   "cell_type": "markdown",
   "metadata": {},
   "source": [
    "## 1. Load the story"
   ]
  },
  {
   "cell_type": "code",
   "execution_count": 3,
   "metadata": {},
   "outputs": [
    {
     "name": "stdout",
     "output_type": "stream",
     "text": [
      "V_S_2024-11-28_15:35.json\n"
     ]
    }
   ],
   "source": [
    "#select the latest file\n",
    "json_files = glob.glob('*.json')\n",
    "#print(json_files)\n",
    "#sorted_files = sorted(json_files, key=os.path.getctime)\n",
    "#print(sorted_files)\n",
    "json_files.sort(key=os.path.getmtime)\n",
    "latest_file = json_files[-1]\n",
    "print(latest_file)"
   ]
  },
  {
   "cell_type": "code",
   "execution_count": 4,
   "metadata": {},
   "outputs": [
    {
     "name": "stdout",
     "output_type": "stream",
     "text": [
      "Titel: Een Verdwaalde Zomerdag\n",
      "\n",
      "Hoofdstuk 1\n",
      "\n",
      "Verteller | Tijdens een zonnige zomerse dag, twee vrienden, Eddy en Jan, besloten een wandeling te maken in het uitgestrekte bos achter hun huis. Ze waren bevriend sinds de kleuterschool en deelden een gezamenlijke passie voor avontuur.\n",
      "\n",
      "{char1} | eddy | \"Jan, je herinnert toch wel de weg terug, toch?\" vroeg Eddy, zijn vriend aankijkend met een lichte ongerustheid in zijn ogen.\n",
      "\n",
      "{char2} | jan | \"Zeker wel, Eddy. We hebben de kaart en het kompas bij ons,\" antwoordde Jan, geruststellend. Hij zwaaide met een kaart in de ene hand en een kompas in de andere.\n",
      "\n",
      "Verteller | Terwijl ze verder wandelden, werden de bomen om hen heen dichter en hun voetsporen op het modderige pad vager. De zon begon langzaam onder te gaan en het bos werd donker.\n",
      "\n",
      "{char1} | eddy | \"Jan, ben je het zeker dat we de juiste richting op gaan? Het lijkt hier op een totaal andere plek dan waar we eerder zijn geweest,\" zei Eddy, zijn stem trillend van angst.\n",
      "\n",
      "{char2} | jan | \"Ja, ik denk het wel. Maar kijk even mee op de kaart, Eddy. Misschien heb ik iets over het hoofd gezien.\" Het antwoord van Jan was niet zo zeker als voorheen.\n",
      "\n",
      "Verteller | Ze stonden daar, midden in het donkere bos, starend naar een kaart die ze weinig hulp bood. Een gevoel van onbehagen hing in de lucht. Verteller | Eddy, hoe voel je je nu? Denk je dat je enig idee hebt over hoe jullie hier weg kunnen komen.\n",
      "\n",
      "{ENDOFACT}Titel: Verloren maar Samen\n",
      "\n",
      "Hoofdstuk 2\n",
      "\n",
      "Verteller | De zon was volledig onder gegaan en het bos werd donkerder. Eddy en Jan keken angstig om hen heen, maar konden niet veel door de dichte bomenlaag zien. Het sussende geluid van vogels en kreten van avondinsecten vulde de stille, enge omgeving.\n",
      "\n",
      "{char1} | eddy | \"Jan, volgens mij zijn we echt verdwaald,\" liet Eddy nerveus uit, zijn ogen gericht op de ondoordringbare duisternis die hen omringde. \"Wat nu?\"\n",
      "\n",
      "{char2} | jan | \"Er is waarschijnlijk een nabijgelegen dorp of een schuilplaats. Laten we doorgaan naar die lichtstraal daar in de verte,\" suggereerde Jan met een bezorgde maar vastberaden toon, terwijl hij wees naar een zwakke gloed voor hen.\n",
      "\n",
      "Verteller | Ze liepen zorgvuldig in de richting van de lichtstraal, hun voetstappen gedempt door de dichte laag bladeren en modder. Het was een uitdaging om in het donker hun evenwicht te houden, maar ze wisten dat ze hun angst moesten overwinnen om veilig uit het bos te komen.\n",
      "\n",
      "{char1} | eddy | \"Jan, volgens mij ben ik iets verloren toen we over die stevige boomstronk zijn gevallen. Ik mis mijn waterfles,\" bekende Eddy bedroefd, zich realiserend dat ze samen slechts één waterfles over hadden. \n",
      "\n",
      "{char2} | jan | \"Maak je geen zorgen, Eddy. We delen dan gewoon mijn waterfles. Voor nu, laten we focussen op het vinden van een uitweg,\" verzekerde Jan zijn vriend, terwijl hij een zachte slok van zijn waterfles nam.\n",
      "\n",
      "Verteller | Ze vervolgden hun tocht, hun ogen strak op de vaag zichtbare, flauwe lichtstraal. De nacht in het bos werd beangstigend realiteit, maar ze hielden vast aan de hoop op een veilige uitweg. Verteller | Jan, denk je dat jullie het licht daadwerkelijk zullen bereiken voordat jullie water opraakt?\n",
      "\n",
      "{ENDOFACT}Titel: Een Uitweg onder de Sterren\n",
      "\n",
      "Hoofdstuk 3\n",
      "\n",
      "Verteller | De gestalte van de hoge bomen begon te vervagen toen ze dieper het bos in trokken, dichter naar het de lichtstraal toe. De sterren aan de hemel leken helderder te worden, hun sprankelende licht werpende op het pad voor Jan en Eddy. Ondanks hun angsten konden ze de schoonheid van de natuurlijke nachtelijke atmosfeer rondom hen niet onopgemerkt laten.\n",
      "\n",
      "{char1} | eddy | \"Kijk eens naar die sterren, Jan. Het lijkt wel een routebeschrijving naar ergens, net als een kaart van ons avontuur,\" fluisterde Eddy zachtjes. \"Ik geloof dat we dit gaan doen.\"\n",
      "\n",
      "{char2} | jan | \"In plaats van een sterrencartograaf, ben je nu een filosoof geworden, Eddy.\" Jan lachte bescheiden, terwijl hij probeerde Eddy's verbeeldingskracht te stimuleren. \"Laten we deze symbolische kaart volgen en zien waar ze ons heen leiden.\"\n",
      "\n",
      "Verteller | Het pad leek eindeloos, maar met elke stap die ze zetten, zagen ze zowel de sterren als de lichtstraal helderder worden. De nachtelijke rituelen van het bos, het getjilp van de krekels en de zachte bries leken minder angstaanjagend en meer geruststellend, alsof het bos hen zelf een loflied bracht voor hun vindingrijkheid en volharding. \n",
      "\n",
      "{char1} | eddy | \"Heb je dat gezien, Jan? Een vos die over het pad rent!\" Eddy wees opgetogen naar een schaduw die snel in de struiken verdween. \"We zijn echt niet alleen hier in dit bos.\"\n",
      "\n",
      "{char2} | jan | \"Laten we het zien als een teken dat we op de goede weg zijn,\" antwoordde Jan, een brede glimlach op zijn gezicht. \"We zijn meer dan halverwege op de weg die de sterren voor ons hebben uitgestippeld.\"\n",
      "\n",
      "Verteller | Met hernieuwde hoop en een sprankje avontuur dat in hun harten glinsterde, zetten Jan en Eddy hun voettocht door het bos voort. Ze wisten dat hun reis nog niet voorbij was, maar iets in hen zei dat ze snel het einde van hun pad zouden bereiken. Verteller | Eddy, voel je je nu minder bang in dit donkere bos?\n",
      "\n",
      "{ENDOFACT}\n"
     ]
    }
   ],
   "source": [
    "with open(latest_file, 'r') as file:\n",
    "    data = json.load(file)\n",
    "generated_text = data['text']\n",
    "print(generated_text)"
   ]
  },
  {
   "cell_type": "markdown",
   "metadata": {},
   "source": [
    "## 2. Set prompt & settings"
   ]
  },
  {
   "cell_type": "code",
   "execution_count": 5,
   "metadata": {},
   "outputs": [],
   "source": [
    "system_prompt = '''Je bent een expert in het beoordelen van teksten voor kinderboeken. Je gaat een tekst beoordelen of deze aan een bepaald niveau voldoet.'''"
   ]
  },
  {
   "cell_type": "code",
   "execution_count": 6,
   "metadata": {},
   "outputs": [
    {
     "data": {
      "text/plain": [
       "'Leesniveau 1: Tekst bestaat uit korte woorden die je precies zo schrijft zoals je ze uitspreekt. Voorbeelden hiervan zijn maan, bos, man, terug, verdwaald. Er mogen dus geen woorden voorkomen met bijvoorbeeld sch- en -ng en -nk, -b, -d(t), -ch(t), -ooi, -aai, -oei, -eeuw, -ieuw, -uw. De zinnen zijn zo kort mogelijk. Elke zin begint op een nieuwe regel. Er komen geen in hoofdletters voor.Leesniveau 2: Tekst bestaat uit één- en tweelettergrepige woorden. Woorden met -sch en -ng mogen voorkomen.  Woorden mogen voorkomen eindigend op -nk, -b, -d(t), -ch(t), -ooi, -aai, -oei, -eeuw, -ieuw, -uw. Een-. Ook mogen tweelettergrepige woorden met twee of drie medeklinkers na elkaar zoals staart, botst, sprong, bankje, knappe, winkel  Er mogen ook enkele makkelijke drielettergrepige woorden voorkomen, zoals sinterklaas. De zinnen zijn meestal kort. Soms mogen samengestelde zinnen voorkomen. Hoofdletters worden gebruikt.Leesniveau 3: Er mogen woorden gebruikt worden met 3 of meer lettergrepen. De zinnen mogen langer zijn. De zinnen kunnen bestaan uit een hoofdzin met een bijzin. Gebruik van leenwoorden, zoals bureau, horloge, chauffeur is toegestaan. Ook eenvoudige leesmoeilijkheden van leenwoorden komen voor: i en y uitgesproken als ie; c uitgesproken als k of als s. Zinnen hoeven niet te beginnen op een nieuwe regel. Samengestelde zinnen mogen voorkomen. Hoofdletters worden gebruikt.Leesniveau 4: Er zijn geen beperkingen in woorden en zinslengte. Lastig te lezen leenwoorden (gamen), onbekende woorden (ov-pas, ornament) en leestekens (ideeën, ruïne) komen meer voor. Woorden eindigend op -ele, -eaal, -ueel, -iaal of -ieel, woorden met een trema komen ook voor. Ook woorden beginnend met /ch/ uitgesproken als /sj/, eindigend op –ge, uitgesproken als /zje/, eindigend op –isch, woorden met klinkerreeks, leenwoorden met eau, é of è.'"
      ]
     },
     "execution_count": 6,
     "metadata": {},
     "output_type": "execute_result"
    }
   ],
   "source": [
    "#variables based on the reading level settings\n",
    "level_one = 'Leesniveau 1: Tekst bestaat uit korte woorden die je precies zo schrijft zoals je ze uitspreekt. Voorbeelden hiervan zijn maan, bos, man, terug, verdwaald. Er mogen dus geen woorden voorkomen met bijvoorbeeld sch- en -ng en -nk, -b, -d(t), -ch(t), -ooi, -aai, -oei, -eeuw, -ieuw, -uw. De zinnen zijn zo kort mogelijk. Elke zin begint op een nieuwe regel. Er komen geen in hoofdletters voor.'\n",
    "\n",
    "level_two = 'Leesniveau 2: Tekst bestaat uit één- en tweelettergrepige woorden. Woorden met -sch en -ng mogen voorkomen.  Woorden mogen voorkomen eindigend op -nk, -b, -d(t), -ch(t), -ooi, -aai, -oei, -eeuw, -ieuw, -uw. Een-. Ook mogen tweelettergrepige woorden met twee of drie medeklinkers na elkaar zoals staart, botst, sprong, bankje, knappe, winkel  Er mogen ook enkele makkelijke drielettergrepige woorden voorkomen, zoals sinterklaas. De zinnen zijn meestal kort. Soms mogen samengestelde zinnen voorkomen. Hoofdletters worden gebruikt.'\n",
    "\n",
    "level_three = 'Leesniveau 3: Er mogen woorden gebruikt worden met 3 of meer lettergrepen. De zinnen mogen langer zijn. De zinnen kunnen bestaan uit een hoofdzin met een bijzin. Gebruik van leenwoorden, zoals bureau, horloge, chauffeur is toegestaan. Ook eenvoudige leesmoeilijkheden van leenwoorden komen voor: i en y uitgesproken als ie; c uitgesproken als k of als s. Zinnen hoeven niet te beginnen op een nieuwe regel. Samengestelde zinnen mogen voorkomen. Hoofdletters worden gebruikt.'\n",
    "\n",
    "level_four = 'Leesniveau 4: Er zijn geen beperkingen in woorden en zinslengte. Lastig te lezen leenwoorden (gamen), onbekende woorden (ov-pas, ornament) en leestekens (ideeën, ruïne) komen meer voor. Woorden eindigend op -ele, -eaal, -ueel, -iaal of -ieel, woorden met een trema komen ook voor. Ook woorden beginnend met /ch/ uitgesproken als /sj/, eindigend op –ge, uitgesproken als /zje/, eindigend op –isch, woorden met klinkerreeks, leenwoorden met eau, é of è.'\n",
    "\n",
    "leesniveaus = level_one + level_two +level_three + level_four\n",
    "leesniveaus"
   ]
  },
  {
   "cell_type": "code",
   "execution_count": 7,
   "metadata": {},
   "outputs": [
    {
     "data": {
      "text/plain": [
       "'Je bent een expert in het beoordelen van teksten voor kinderboeken. Je gaat een tekst beoordelen of deze aan een bepaald niveau voldoet.Leesniveau 1: Tekst bestaat uit korte woorden die je precies zo schrijft zoals je ze uitspreekt. Voorbeelden hiervan zijn maan, bos, man, terug, verdwaald. Er mogen dus geen woorden voorkomen met bijvoorbeeld sch- en -ng en -nk, -b, -d(t), -ch(t), -ooi, -aai, -oei, -eeuw, -ieuw, -uw. De zinnen zijn zo kort mogelijk. Elke zin begint op een nieuwe regel. Er komen geen in hoofdletters voor.Leesniveau 2: Tekst bestaat uit één- en tweelettergrepige woorden. Woorden met -sch en -ng mogen voorkomen.  Woorden mogen voorkomen eindigend op -nk, -b, -d(t), -ch(t), -ooi, -aai, -oei, -eeuw, -ieuw, -uw. Een-. Ook mogen tweelettergrepige woorden met twee of drie medeklinkers na elkaar zoals staart, botst, sprong, bankje, knappe, winkel  Er mogen ook enkele makkelijke drielettergrepige woorden voorkomen, zoals sinterklaas. De zinnen zijn meestal kort. Soms mogen samengestelde zinnen voorkomen. Hoofdletters worden gebruikt.Leesniveau 3: Er mogen woorden gebruikt worden met 3 of meer lettergrepen. De zinnen mogen langer zijn. De zinnen kunnen bestaan uit een hoofdzin met een bijzin. Gebruik van leenwoorden, zoals bureau, horloge, chauffeur is toegestaan. Ook eenvoudige leesmoeilijkheden van leenwoorden komen voor: i en y uitgesproken als ie; c uitgesproken als k of als s. Zinnen hoeven niet te beginnen op een nieuwe regel. Samengestelde zinnen mogen voorkomen. Hoofdletters worden gebruikt.Leesniveau 4: Er zijn geen beperkingen in woorden en zinslengte. Lastig te lezen leenwoorden (gamen), onbekende woorden (ov-pas, ornament) en leestekens (ideeën, ruïne) komen meer voor. Woorden eindigend op -ele, -eaal, -ueel, -iaal of -ieel, woorden met een trema komen ook voor. Ook woorden beginnend met /ch/ uitgesproken als /sj/, eindigend op –ge, uitgesproken als /zje/, eindigend op –isch, woorden met klinkerreeks, leenwoorden met eau, é of è.Analyseer op welk leesniveau de volgende tekst is geschreven. Antwoord als eerste het leesniveua en beschrijf daarna je redenering. De woorden: Verteller, ENDOFACT, char1, char2, Hoofdstuk neem je NIET mee in je beoordeling.Titel: Een Verdwaalde Zomerdag\\n\\nHoofdstuk 1\\n\\nVerteller | Tijdens een zonnige zomerse dag, twee vrienden, Eddy en Jan, besloten een wandeling te maken in het uitgestrekte bos achter hun huis. Ze waren bevriend sinds de kleuterschool en deelden een gezamenlijke passie voor avontuur.\\n\\n{char1} | eddy | \"Jan, je herinnert toch wel de weg terug, toch?\" vroeg Eddy, zijn vriend aankijkend met een lichte ongerustheid in zijn ogen.\\n\\n{char2} | jan | \"Zeker wel, Eddy. We hebben de kaart en het kompas bij ons,\" antwoordde Jan, geruststellend. Hij zwaaide met een kaart in de ene hand en een kompas in de andere.\\n\\nVerteller | Terwijl ze verder wandelden, werden de bomen om hen heen dichter en hun voetsporen op het modderige pad vager. De zon begon langzaam onder te gaan en het bos werd donker.\\n\\n{char1} | eddy | \"Jan, ben je het zeker dat we de juiste richting op gaan? Het lijkt hier op een totaal andere plek dan waar we eerder zijn geweest,\" zei Eddy, zijn stem trillend van angst.\\n\\n{char2} | jan | \"Ja, ik denk het wel. Maar kijk even mee op de kaart, Eddy. Misschien heb ik iets over het hoofd gezien.\" Het antwoord van Jan was niet zo zeker als voorheen.\\n\\nVerteller | Ze stonden daar, midden in het donkere bos, starend naar een kaart die ze weinig hulp bood. Een gevoel van onbehagen hing in de lucht. Verteller | Eddy, hoe voel je je nu? Denk je dat je enig idee hebt over hoe jullie hier weg kunnen komen.\\n\\n{ENDOFACT}Titel: Verloren maar Samen\\n\\nHoofdstuk 2\\n\\nVerteller | De zon was volledig onder gegaan en het bos werd donkerder. Eddy en Jan keken angstig om hen heen, maar konden niet veel door de dichte bomenlaag zien. Het sussende geluid van vogels en kreten van avondinsecten vulde de stille, enge omgeving.\\n\\n{char1} | eddy | \"Jan, volgens mij zijn we echt verdwaald,\" liet Eddy nerveus uit, zijn ogen gericht op de ondoordringbare duisternis die hen omringde. \"Wat nu?\"\\n\\n{char2} | jan | \"Er is waarschijnlijk een nabijgelegen dorp of een schuilplaats. Laten we doorgaan naar die lichtstraal daar in de verte,\" suggereerde Jan met een bezorgde maar vastberaden toon, terwijl hij wees naar een zwakke gloed voor hen.\\n\\nVerteller | Ze liepen zorgvuldig in de richting van de lichtstraal, hun voetstappen gedempt door de dichte laag bladeren en modder. Het was een uitdaging om in het donker hun evenwicht te houden, maar ze wisten dat ze hun angst moesten overwinnen om veilig uit het bos te komen.\\n\\n{char1} | eddy | \"Jan, volgens mij ben ik iets verloren toen we over die stevige boomstronk zijn gevallen. Ik mis mijn waterfles,\" bekende Eddy bedroefd, zich realiserend dat ze samen slechts één waterfles over hadden. \\n\\n{char2} | jan | \"Maak je geen zorgen, Eddy. We delen dan gewoon mijn waterfles. Voor nu, laten we focussen op het vinden van een uitweg,\" verzekerde Jan zijn vriend, terwijl hij een zachte slok van zijn waterfles nam.\\n\\nVerteller | Ze vervolgden hun tocht, hun ogen strak op de vaag zichtbare, flauwe lichtstraal. De nacht in het bos werd beangstigend realiteit, maar ze hielden vast aan de hoop op een veilige uitweg. Verteller | Jan, denk je dat jullie het licht daadwerkelijk zullen bereiken voordat jullie water opraakt?\\n\\n{ENDOFACT}Titel: Een Uitweg onder de Sterren\\n\\nHoofdstuk 3\\n\\nVerteller | De gestalte van de hoge bomen begon te vervagen toen ze dieper het bos in trokken, dichter naar het de lichtstraal toe. De sterren aan de hemel leken helderder te worden, hun sprankelende licht werpende op het pad voor Jan en Eddy. Ondanks hun angsten konden ze de schoonheid van de natuurlijke nachtelijke atmosfeer rondom hen niet onopgemerkt laten.\\n\\n{char1} | eddy | \"Kijk eens naar die sterren, Jan. Het lijkt wel een routebeschrijving naar ergens, net als een kaart van ons avontuur,\" fluisterde Eddy zachtjes. \"Ik geloof dat we dit gaan doen.\"\\n\\n{char2} | jan | \"In plaats van een sterrencartograaf, ben je nu een filosoof geworden, Eddy.\" Jan lachte bescheiden, terwijl hij probeerde Eddy\\'s verbeeldingskracht te stimuleren. \"Laten we deze symbolische kaart volgen en zien waar ze ons heen leiden.\"\\n\\nVerteller | Het pad leek eindeloos, maar met elke stap die ze zetten, zagen ze zowel de sterren als de lichtstraal helderder worden. De nachtelijke rituelen van het bos, het getjilp van de krekels en de zachte bries leken minder angstaanjagend en meer geruststellend, alsof het bos hen zelf een loflied bracht voor hun vindingrijkheid en volharding. \\n\\n{char1} | eddy | \"Heb je dat gezien, Jan? Een vos die over het pad rent!\" Eddy wees opgetogen naar een schaduw die snel in de struiken verdween. \"We zijn echt niet alleen hier in dit bos.\"\\n\\n{char2} | jan | \"Laten we het zien als een teken dat we op de goede weg zijn,\" antwoordde Jan, een brede glimlach op zijn gezicht. \"We zijn meer dan halverwege op de weg die de sterren voor ons hebben uitgestippeld.\"\\n\\nVerteller | Met hernieuwde hoop en een sprankje avontuur dat in hun harten glinsterde, zetten Jan en Eddy hun voettocht door het bos voort. Ze wisten dat hun reis nog niet voorbij was, maar iets in hen zei dat ze snel het einde van hun pad zouden bereiken. Verteller | Eddy, voel je je nu minder bang in dit donkere bos?\\n\\n{ENDOFACT}'"
      ]
     },
     "execution_count": 7,
     "metadata": {},
     "output_type": "execute_result"
    }
   ],
   "source": [
    "# TO DO prompt samenstellen met de tekst niveaus.\n",
    "\n",
    "#prompt = system_prompt + leesniveaus + \"Analyseer op welk leesniveau de volgende tekst is geschreven. Antwoord alleen het leesniveau. De woorden: Verteller, ENDOFACT, char1, char2, Hoofdstuk neem je NIET mee in je beoordeling.\"  + generated_text\n",
    "prompt = system_prompt + leesniveaus + \"Analyseer op welk leesniveau de volgende tekst is geschreven. Antwoord als eerste het leesniveua en beschrijf daarna je redenering. De woorden: Verteller, ENDOFACT, char1, char2, Hoofdstuk neem je NIET mee in je beoordeling.\"  + generated_text\n",
    "prompt"
   ]
  },
  {
   "cell_type": "markdown",
   "metadata": {},
   "source": [
    "## 3. Evaluate the text"
   ]
  },
  {
   "cell_type": "code",
   "execution_count": 8,
   "metadata": {},
   "outputs": [
    {
     "data": {
      "text/plain": [
       "ChatCompletion(id='chatcmpl-AakfDS4Gvf7NW1FwDKeua8LNOswHy', choices=[Choice(finish_reason='stop', index=0, logprobs=None, message=ChatCompletionMessage(content='Leesniveau 3\\n\\nRedenering: De tekst bevat woorden met drie of meer lettergrepen, zoals \"gestalte\", \"natuurlijke\", \"verbeeldingskracht\", \"nachtelijke\", en \"vindingrijkheid\". Daarnaast worden samengestelde zinnen en bijzinnen gebruikt, zoals in \"Terwijl ze verder wandelden, werden de bomen om hen heen dichter en hun voetsporen op het modderige pad vager.\" Er zijn ook leenwoorden opgenomen zoals \"filosoof\" en \"cartograaf\". De zinnen variëren in lengte en bevatten af en toe complexere structuren die passen bij het niveau van leesniveau 3.', refusal=None, role='assistant', audio=None, function_call=None, tool_calls=None))], created=1733322547, model='gpt-4o-2024-08-06', object='chat.completion', service_tier=None, system_fingerprint='fp_7f6be3efb0', usage=CompletionUsage(completion_tokens=137, prompt_tokens=1937, total_tokens=2074, completion_tokens_details=CompletionTokensDetails(accepted_prediction_tokens=0, audio_tokens=0, reasoning_tokens=0, rejected_prediction_tokens=0), prompt_tokens_details=PromptTokensDetails(audio_tokens=0, cached_tokens=0)))"
      ]
     },
     "execution_count": 8,
     "metadata": {},
     "output_type": "execute_result"
    }
   ],
   "source": [
    "#calling the OpenAI function\n",
    "chat_completion = client.chat.completions.create(\n",
    "    messages=[\n",
    "        {\n",
    "            \"role\": \"user\",\n",
    "            \"content\": prompt,\n",
    "        }\n",
    "    ],\n",
    "    #model=\"o1-preview\",\n",
    "    model=\"gpt-4o\",\n",
    ")\n",
    "chat_completion"
   ]
  },
  {
   "cell_type": "code",
   "execution_count": 9,
   "metadata": {},
   "outputs": [
    {
     "name": "stdout",
     "output_type": "stream",
     "text": [
      " V_S_2024-11-28_15:35.json = Leesniveau 3\n",
      "\n",
      "Redenering: De tekst bevat woorden met drie of meer lettergrepen, zoals \"gestalte\", \"natuurlijke\", \"verbeeldingskracht\", \"nachtelijke\", en \"vindingrijkheid\". Daarnaast worden samengestelde zinnen en bijzinnen gebruikt, zoals in \"Terwijl ze verder wandelden, werden de bomen om hen heen dichter en hun voetsporen op het modderige pad vager.\" Er zijn ook leenwoorden opgenomen zoals \"filosoof\" en \"cartograaf\". De zinnen variëren in lengte en bevatten af en toe complexere structuren die passen bij het niveau van leesniveau 3.\n"
     ]
    }
   ],
   "source": [
    "evaluation_by_llm =chat_completion.choices[0].message.content\n",
    "print(f' {latest_file} = {evaluation_by_llm}')"
   ]
  },
  {
   "cell_type": "markdown",
   "metadata": {},
   "source": [
    "## 4. Results\n",
    "\n",
    "(Edit this table manually)\n",
    "\n",
    "| JSON | Leesniveau gevraagd | Beoordeling door LLM (2x) | Beoordeling door mij\n",
    "|----------|----------|----------|----------|\n",
    "| V_S_2024-11-28_10:39.json | 1/1 | 2 + 2 | ? |\n",
    "| V_S_2024-11-28_10:44.json | 1/1 | 1 + 1 | ? |\n",
    "| V_S_2024-11-28_10:45.json | 1/1 | 2 + 2 | ? |\n",
    "| V_S_2024-11-28_10:48.json | 1/1 | 3 + 3 | ? |\n",
    "| V_S_2024-11-28_11:05.json | 1/1/1 | 1 + 1 | ? |\n",
    "| V_S_2024-11-28_11:06.json | 1/1/1 | 2 + 2 | ? |\n",
    "| V_S_2024-11-28_11:07.json | 1/1/1 | 2 + 2 | ? |\n",
    "| V_S_2024-11-28_12:15.json | 1/1/1 | 2 + 2 | 1 |\n",
    "| V_S_2024-11-28_12:33.json | 1/1/1 | 1 + 1 | 1 |\n",
    "| V_S_2024-11-28_12:35.json | 1/1/1 | 1 + 1 | 1 | \n",
    "| V_S_2024-11-28_12:42.json | 1/1/1 | 1 + 1 | ? |\n",
    "| V_S_2024-11-28_12:44.json | 1/1/1 | 1 + 1 | ? |\n",
    "| V_S_2024-11-28_12:46.json | 1/1/1 | 1 + 1 | ? |\n",
    "| V_S_2024-11-28_12:50.json | 1/1/1 | 1 + 1 | ? |\n",
    "| V_S_2024-11-28_14:33.json | 2/2/2 | 2 + 2 | ? |\n",
    "| V_S_2024-11-28_15:05.json | 2/2/2 | 2 + 2 | ? |\n",
    "| V_S_2024-11-28_15:07.json | 2/2/2 | 3 + 3 | ? |\n",
    "| V_S_2024-11-28_15:08.json | 2/2/2 | 2 + 2 | ? |\n",
    "| V_S_2024-11-28_15:10.json | 2/2/2 | 3 + 3 | ? |\n",
    "| V_S_2024-11-28_15:15.json | 3/3/3 | 3 + 4 | ? |\n",
    "| V_S_2024-11-28_15:18.json | 3/3/3 | 3 + 3 | ? |\n",
    "| V_S_2024-11-28_15:20.json | 3/3/3 | 3 + 3 | ? |\n",
    "| V_S_2024-11-28_15:21.json | 3/3/3 | 3 + 4  | ? |\n",
    "| V_S_2024-11-28_15:22.json | 3/3/3 | 3 + 3 | ? |\n",
    "| V_S_2024-11-28_15:25.json | 4/4/4 | 4 + 4 | ? |\n",
    "| V_S_2024-11-28_15:27.json | 4/4/4 | 4 + 4 | ? |\n",
    "| V_S_2024-11-28_15:29.json | 4/4/4 | 3 + 3 | ? |\n",
    "| V_S_2024-11-28_15:31.json | 4/4/4 | 3 + 3 | ? |\n",
    "| V_S_2024-11-28_15:35.json | 4/4/4 | 4 + 3 | ? |"
   ]
  },
  {
   "cell_type": "markdown",
   "metadata": {},
   "source": []
  },
  {
   "cell_type": "markdown",
   "metadata": {},
   "source": []
  }
 ],
 "metadata": {
  "kernelspec": {
   "display_name": "base",
   "language": "python",
   "name": "python3"
  },
  "language_info": {
   "codemirror_mode": {
    "name": "ipython",
    "version": 3
   },
   "file_extension": ".py",
   "mimetype": "text/x-python",
   "name": "python",
   "nbconvert_exporter": "python",
   "pygments_lexer": "ipython3",
   "version": "3.12.7"
  }
 },
 "nbformat": 4,
 "nbformat_minor": 2
}
